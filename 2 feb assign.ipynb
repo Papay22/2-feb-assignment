{
 "cells": [
  {
   "cell_type": "markdown",
   "metadata": {},
   "source": [
    "To write comments in Python, use the number symbol `#` before writing your comment. When you run your code, Python will ignore everything past the # on a given line."
   ]
  },
  {
   "cell_type": "code",
   "execution_count": null,
   "metadata": {},
   "outputs": [],
   "source": [
    "A tuple is an ordered collection of elements. It is immutable, meaning that once it is created, its elements cannot be changed. Tuples are typically used to store related pieces of information, such as a person's name and age. They can also be used to store multiple values in a single variable, such as a coordinate pair or a date and time."
   ]
  },
  {
   "cell_type": "code",
   "execution_count": null,
   "metadata": {},
   "outputs": [],
   "source": [
    "The two tuple methods in Python are count() and index().\n",
    "Example of count():\n",
    "tuple1 = (1, 2, 3, 4, 5, 1)\n",
    "print(tuple1.count(1))\n",
    "Output: 2\n",
    "Example of index():\n",
    "tuple1 = (1, 2, 3, 4, 5, 1)\n",
    "print(tuple1.index(3))\n",
    "Output: 2\n",
    "Tuples have only two in-built methods as compared to Lists because tuples are immutable. This means that the elements of a tuple cannot be changed or modified once it is created. Therefore, there is no need for additional methods to modify the elements of a tuple."
   ]
  },
  {
   "cell_type": "code",
   "execution_count": null,
   "metadata": {},
   "outputs": [],
   "source": [
    ": Sets do not allow duplicate items.\n",
    "Code:List = 1, 1, 1, 2, 1, 3, 1, 4, 2, 1, 2, 2, 2, 3, 2, 4, 3, 1, 3, 2, 3, 3, 3, 4, 4, 1, 4, 2, 4, 3, 4, 4\n",
    "Set = set(List)\n",
    "print(Set)\n",
    "Output: {1, 2, 3, 4}\n"
   ]
  },
  {
   "cell_type": "code",
   "execution_count": null,
   "metadata": {},
   "outputs": [],
   "source": [
    "The union() method returns a new set that contains all the elements from both sets. For example:\n",
    "set1 = {1,2,3,4} set2 = {3,4,5,6} set3 = set1.union(set2) print(set3) # Output: {1, 2, 3, 4, 5, 6}\n",
    "The update() method updates the set with the elements from another set. For example:\n",
    "set1 = {1,2,3,4} set2 = {3,4,5,6}\n",
    "set1.update(set2) print(set1) # Output: {1, 2, 3, 4, 5, 6}\n"
   ]
  },
  {
   "cell_type": "code",
   "execution_count": null,
   "metadata": {},
   "outputs": [],
   "source": [
    "A dictionary is a collection of key-value pairs. Each key is associated with a value. For example, a dictionary might contain the following key-value pairs:\n",
    "{\"name\": \"John\",\"age\": 30,\"city\": \"New York\"}\n",
    "A dictionary is unordered\n"
   ]
  },
  {
   "cell_type": "code",
   "execution_count": null,
   "metadata": {},
   "outputs": [],
   "source": [
    ". Yes, we can create a nested dictionary. For example:nested_dict = {'key1': {'subkey1': 'value1','subkey2': 'value2'},'key2': {'subkey3': 'value3','subkey4': 'value4'}}\n"
   ]
  },
  {
   "cell_type": "code",
   "execution_count": null,
   "metadata": {},
   "outputs": [],
   "source": [
    "dict1.setdefault('topics', 'Python', 'Machine Learning', 'Deep Learning')"
   ]
  },
  {
   "cell_type": "code",
   "execution_count": null,
   "metadata": {},
   "outputs": [],
   "source": [
    "The three view objects in dictionaries are keys(), values() and items().To display these three view objects for the given dictionary:keys():print(dict1.keys())Output: dict_keys('Sport', 'Teams')values():print(dict1.values())Output: dict_values(['Cricket', 'India', 'Australia', 'England', 'South Africa', 'Sri Lanka', 'New Zealand'])items():print(dict1.items())Output: dict_items([('Sport', 'Cricket'), ('Teams', 'India'), ('Australia', 'England'), ('South Africa', 'Sri Lanka'), ('New Zealand', None)])"
   ]
  }
 ],
 "metadata": {
  "kernelspec": {
   "display_name": "Python 3 (ipykernel)",
   "language": "python",
   "name": "python3"
  },
  "language_info": {
   "codemirror_mode": {
    "name": "ipython",
    "version": 3
   },
   "file_extension": ".py",
   "mimetype": "text/x-python",
   "name": "python",
   "nbconvert_exporter": "python",
   "pygments_lexer": "ipython3",
   "version": "3.10.8"
  }
 },
 "nbformat": 4,
 "nbformat_minor": 4
}
